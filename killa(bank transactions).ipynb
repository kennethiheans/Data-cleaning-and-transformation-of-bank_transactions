{
 "cells": [
  {
   "cell_type": "code",
   "execution_count": 1,
   "metadata": {},
   "outputs": [],
   "source": [
    "#import libaries"
   ]
  },
  {
   "cell_type": "code",
   "execution_count": 2,
   "metadata": {},
   "outputs": [],
   "source": [
    "import numpy as np\n",
    "import pandas as pd\n",
    "import matplotlib.pyplot as plt\n",
    "%matplotlib inline\n",
    "import seaborn as sns"
   ]
  },
  {
   "cell_type": "code",
   "execution_count": 3,
   "metadata": {},
   "outputs": [],
   "source": [
    "#import the csv file"
   ]
  },
  {
   "cell_type": "code",
   "execution_count": 4,
   "metadata": {},
   "outputs": [],
   "source": [
    "killa = pd.read_csv('Killa2.csv')"
   ]
  },
  {
   "cell_type": "code",
   "execution_count": 5,
   "metadata": {},
   "outputs": [
    {
     "data": {
      "text/html": [
       "<div>\n",
       "<style scoped>\n",
       "    .dataframe tbody tr th:only-of-type {\n",
       "        vertical-align: middle;\n",
       "    }\n",
       "\n",
       "    .dataframe tbody tr th {\n",
       "        vertical-align: top;\n",
       "    }\n",
       "\n",
       "    .dataframe thead th {\n",
       "        text-align: right;\n",
       "    }\n",
       "</style>\n",
       "<table border=\"1\" class=\"dataframe\">\n",
       "  <thead>\n",
       "    <tr style=\"text-align: right;\">\n",
       "      <th></th>\n",
       "      <th>First Name</th>\n",
       "      <th>Last Name</th>\n",
       "      <th>transaction</th>\n",
       "    </tr>\n",
       "  </thead>\n",
       "  <tbody>\n",
       "    <tr>\n",
       "      <th>0</th>\n",
       "      <td>nooeukw</td>\n",
       "      <td>uuoaklowalb</td>\n",
       "      <td>{'tx_id': '5ed3d67b8723c11444c43283', 'tx_date...</td>\n",
       "    </tr>\n",
       "    <tr>\n",
       "      <th>1</th>\n",
       "      <td>angulbo</td>\n",
       "      <td>seagn</td>\n",
       "      <td>{'tx_id': '5ed3d67b8723c11444c43283', 'tx_date...</td>\n",
       "    </tr>\n",
       "    <tr>\n",
       "      <th>2</th>\n",
       "      <td>dukowi</td>\n",
       "      <td>eukloomja</td>\n",
       "      <td>{'tx_id': '5ed3d67b8723c11444c43283', 'tx_date...</td>\n",
       "    </tr>\n",
       "    <tr>\n",
       "      <th>3</th>\n",
       "      <td>ltuoawiob</td>\n",
       "      <td>uuilawobmn</td>\n",
       "      <td>{'tx_id': '5ed3d67b8723c11444c43283', 'tx_date...</td>\n",
       "    </tr>\n",
       "    <tr>\n",
       "      <th>4</th>\n",
       "      <td>nakuolo</td>\n",
       "      <td>donald</td>\n",
       "      <td>{'tx_id': '5ed3d67b8723c11444c43283', 'tx_date...</td>\n",
       "    </tr>\n",
       "  </tbody>\n",
       "</table>\n",
       "</div>"
      ],
      "text/plain": [
       "  First Name    Last Name                                        transaction\n",
       "0    nooeukw  uuoaklowalb  {'tx_id': '5ed3d67b8723c11444c43283', 'tx_date...\n",
       "1    angulbo        seagn  {'tx_id': '5ed3d67b8723c11444c43283', 'tx_date...\n",
       "2     dukowi    eukloomja  {'tx_id': '5ed3d67b8723c11444c43283', 'tx_date...\n",
       "3  ltuoawiob   uuilawobmn  {'tx_id': '5ed3d67b8723c11444c43283', 'tx_date...\n",
       "4    nakuolo       donald  {'tx_id': '5ed3d67b8723c11444c43283', 'tx_date..."
      ]
     },
     "execution_count": 5,
     "metadata": {},
     "output_type": "execute_result"
    }
   ],
   "source": [
    "killa.head(5)"
   ]
  },
  {
   "cell_type": "code",
   "execution_count": 6,
   "metadata": {},
   "outputs": [],
   "source": [
    "#1. straighten out the transaction column to a table with 7rows"
   ]
  },
  {
   "cell_type": "code",
   "execution_count": 7,
   "metadata": {},
   "outputs": [
    {
     "data": {
      "text/plain": [
       "\"{'tx_id': '5ed3d67b8723c11444c43283', 'tx_date': '2020-06-13T05:28:47.543000Z', 'tx_amount': 6192, 'tx_mode': 'Debit', 'tx_channel': 'web', 'bank_name': 'QBank', 'dob': ['1992-11-10 00:00:00']}\""
      ]
     },
     "execution_count": 7,
     "metadata": {},
     "output_type": "execute_result"
    }
   ],
   "source": [
    "killa['transaction'].loc[0]"
   ]
  },
  {
   "cell_type": "code",
   "execution_count": 8,
   "metadata": {},
   "outputs": [
    {
     "data": {
      "text/plain": [
       "str"
      ]
     },
     "execution_count": 8,
     "metadata": {},
     "output_type": "execute_result"
    }
   ],
   "source": [
    "type(killa['transaction'].loc[0])"
   ]
  },
  {
   "cell_type": "code",
   "execution_count": 9,
   "metadata": {},
   "outputs": [],
   "source": [
    "#convert str to dict"
   ]
  },
  {
   "cell_type": "code",
   "execution_count": 10,
   "metadata": {},
   "outputs": [],
   "source": [
    "killa['transaction'] = killa['transaction'].apply(eval)"
   ]
  },
  {
   "cell_type": "code",
   "execution_count": 11,
   "metadata": {},
   "outputs": [],
   "source": [
    "#transform the dict to a table "
   ]
  },
  {
   "cell_type": "code",
   "execution_count": 12,
   "metadata": {},
   "outputs": [
    {
     "data": {
      "text/html": [
       "<div>\n",
       "<style scoped>\n",
       "    .dataframe tbody tr th:only-of-type {\n",
       "        vertical-align: middle;\n",
       "    }\n",
       "\n",
       "    .dataframe tbody tr th {\n",
       "        vertical-align: top;\n",
       "    }\n",
       "\n",
       "    .dataframe thead th {\n",
       "        text-align: right;\n",
       "    }\n",
       "</style>\n",
       "<table border=\"1\" class=\"dataframe\">\n",
       "  <thead>\n",
       "    <tr style=\"text-align: right;\">\n",
       "      <th></th>\n",
       "      <th>tx_id</th>\n",
       "      <th>tx_date</th>\n",
       "      <th>tx_amount</th>\n",
       "      <th>tx_mode</th>\n",
       "      <th>tx_channel</th>\n",
       "      <th>bank_name</th>\n",
       "      <th>dob</th>\n",
       "    </tr>\n",
       "  </thead>\n",
       "  <tbody>\n",
       "    <tr>\n",
       "      <th>0</th>\n",
       "      <td>5ed3d67b8723c11444c43283</td>\n",
       "      <td>2020-06-13T05:28:47.543000Z</td>\n",
       "      <td>6192</td>\n",
       "      <td>Debit</td>\n",
       "      <td>web</td>\n",
       "      <td>QBank</td>\n",
       "      <td>[1992-11-10 00:00:00]</td>\n",
       "    </tr>\n",
       "    <tr>\n",
       "      <th>1</th>\n",
       "      <td>5ed3d67b8723c11444c43283</td>\n",
       "      <td>2020-06-12T20:22:38.986000Z</td>\n",
       "      <td>38445</td>\n",
       "      <td>Debit</td>\n",
       "      <td>mobile</td>\n",
       "      <td>ABank</td>\n",
       "      <td>[n/a]</td>\n",
       "    </tr>\n",
       "    <tr>\n",
       "      <th>2</th>\n",
       "      <td>5ed3d67b8723c11444c43283</td>\n",
       "      <td>2020-06-13T06:00:46.904000Z</td>\n",
       "      <td>29627</td>\n",
       "      <td>Debit</td>\n",
       "      <td>mobile</td>\n",
       "      <td>GBank</td>\n",
       "      <td>[1992-01-01 00:00:00]</td>\n",
       "    </tr>\n",
       "    <tr>\n",
       "      <th>3</th>\n",
       "      <td>5ed3d67b8723c11444c43283</td>\n",
       "      <td>2020-06-13T16:10:51.479000Z</td>\n",
       "      <td>27791</td>\n",
       "      <td>Debit</td>\n",
       "      <td>web</td>\n",
       "      <td>KBank</td>\n",
       "      <td>[1981-01-07 00:00:00]</td>\n",
       "    </tr>\n",
       "    <tr>\n",
       "      <th>4</th>\n",
       "      <td>5ed3d67b8723c11444c43283</td>\n",
       "      <td>2020-06-13T05:28:47.543000Z</td>\n",
       "      <td>6192</td>\n",
       "      <td>Debit</td>\n",
       "      <td>web</td>\n",
       "      <td>QBank</td>\n",
       "      <td>[n/a]</td>\n",
       "    </tr>\n",
       "  </tbody>\n",
       "</table>\n",
       "</div>"
      ],
      "text/plain": [
       "                      tx_id                      tx_date  tx_amount tx_mode  \\\n",
       "0  5ed3d67b8723c11444c43283  2020-06-13T05:28:47.543000Z       6192   Debit   \n",
       "1  5ed3d67b8723c11444c43283  2020-06-12T20:22:38.986000Z      38445   Debit   \n",
       "2  5ed3d67b8723c11444c43283  2020-06-13T06:00:46.904000Z      29627   Debit   \n",
       "3  5ed3d67b8723c11444c43283  2020-06-13T16:10:51.479000Z      27791   Debit   \n",
       "4  5ed3d67b8723c11444c43283  2020-06-13T05:28:47.543000Z       6192   Debit   \n",
       "\n",
       "  tx_channel bank_name                    dob  \n",
       "0        web     QBank  [1992-11-10 00:00:00]  \n",
       "1     mobile     ABank                  [n/a]  \n",
       "2     mobile     GBank  [1992-01-01 00:00:00]  \n",
       "3        web     KBank  [1981-01-07 00:00:00]  \n",
       "4        web     QBank                  [n/a]  "
      ]
     },
     "execution_count": 12,
     "metadata": {},
     "output_type": "execute_result"
    }
   ],
   "source": [
    "transaction = pd.json_normalize(killa['transaction'])\n",
    "transaction.head(5)"
   ]
  },
  {
   "cell_type": "code",
   "execution_count": 13,
   "metadata": {},
   "outputs": [],
   "source": [
    "#joining the firstname and lastname from the killa dataframe with the transaction table"
   ]
  },
  {
   "cell_type": "code",
   "execution_count": 14,
   "metadata": {},
   "outputs": [],
   "source": [
    "df = pd.concat([killa[['First Name', 'Last Name']], transaction], axis = 1)"
   ]
  },
  {
   "cell_type": "code",
   "execution_count": 15,
   "metadata": {},
   "outputs": [
    {
     "data": {
      "text/html": [
       "<div>\n",
       "<style scoped>\n",
       "    .dataframe tbody tr th:only-of-type {\n",
       "        vertical-align: middle;\n",
       "    }\n",
       "\n",
       "    .dataframe tbody tr th {\n",
       "        vertical-align: top;\n",
       "    }\n",
       "\n",
       "    .dataframe thead th {\n",
       "        text-align: right;\n",
       "    }\n",
       "</style>\n",
       "<table border=\"1\" class=\"dataframe\">\n",
       "  <thead>\n",
       "    <tr style=\"text-align: right;\">\n",
       "      <th></th>\n",
       "      <th>First Name</th>\n",
       "      <th>Last Name</th>\n",
       "      <th>tx_id</th>\n",
       "      <th>tx_date</th>\n",
       "      <th>tx_amount</th>\n",
       "      <th>tx_mode</th>\n",
       "      <th>tx_channel</th>\n",
       "      <th>bank_name</th>\n",
       "      <th>dob</th>\n",
       "    </tr>\n",
       "  </thead>\n",
       "  <tbody>\n",
       "    <tr>\n",
       "      <th>0</th>\n",
       "      <td>nooeukw</td>\n",
       "      <td>uuoaklowalb</td>\n",
       "      <td>5ed3d67b8723c11444c43283</td>\n",
       "      <td>2020-06-13T05:28:47.543000Z</td>\n",
       "      <td>6192</td>\n",
       "      <td>Debit</td>\n",
       "      <td>web</td>\n",
       "      <td>QBank</td>\n",
       "      <td>[1992-11-10 00:00:00]</td>\n",
       "    </tr>\n",
       "    <tr>\n",
       "      <th>1</th>\n",
       "      <td>angulbo</td>\n",
       "      <td>seagn</td>\n",
       "      <td>5ed3d67b8723c11444c43283</td>\n",
       "      <td>2020-06-12T20:22:38.986000Z</td>\n",
       "      <td>38445</td>\n",
       "      <td>Debit</td>\n",
       "      <td>mobile</td>\n",
       "      <td>ABank</td>\n",
       "      <td>[n/a]</td>\n",
       "    </tr>\n",
       "    <tr>\n",
       "      <th>2</th>\n",
       "      <td>dukowi</td>\n",
       "      <td>eukloomja</td>\n",
       "      <td>5ed3d67b8723c11444c43283</td>\n",
       "      <td>2020-06-13T06:00:46.904000Z</td>\n",
       "      <td>29627</td>\n",
       "      <td>Debit</td>\n",
       "      <td>mobile</td>\n",
       "      <td>GBank</td>\n",
       "      <td>[1992-01-01 00:00:00]</td>\n",
       "    </tr>\n",
       "    <tr>\n",
       "      <th>3</th>\n",
       "      <td>ltuoawiob</td>\n",
       "      <td>uuilawobmn</td>\n",
       "      <td>5ed3d67b8723c11444c43283</td>\n",
       "      <td>2020-06-13T16:10:51.479000Z</td>\n",
       "      <td>27791</td>\n",
       "      <td>Debit</td>\n",
       "      <td>web</td>\n",
       "      <td>KBank</td>\n",
       "      <td>[1981-01-07 00:00:00]</td>\n",
       "    </tr>\n",
       "    <tr>\n",
       "      <th>4</th>\n",
       "      <td>nakuolo</td>\n",
       "      <td>donald</td>\n",
       "      <td>5ed3d67b8723c11444c43283</td>\n",
       "      <td>2020-06-13T05:28:47.543000Z</td>\n",
       "      <td>6192</td>\n",
       "      <td>Debit</td>\n",
       "      <td>web</td>\n",
       "      <td>QBank</td>\n",
       "      <td>[n/a]</td>\n",
       "    </tr>\n",
       "    <tr>\n",
       "      <th>...</th>\n",
       "      <td>...</td>\n",
       "      <td>...</td>\n",
       "      <td>...</td>\n",
       "      <td>...</td>\n",
       "      <td>...</td>\n",
       "      <td>...</td>\n",
       "      <td>...</td>\n",
       "      <td>...</td>\n",
       "      <td>...</td>\n",
       "    </tr>\n",
       "    <tr>\n",
       "      <th>122</th>\n",
       "      <td>nodgeeul</td>\n",
       "      <td>ihcnek</td>\n",
       "      <td>5ed3d67b8723c11444c43283</td>\n",
       "      <td>2020-06-13T06:00:46.904000Z</td>\n",
       "      <td>29627</td>\n",
       "      <td>Debit</td>\n",
       "      <td>mobile</td>\n",
       "      <td>GBank</td>\n",
       "      <td>[n/a]</td>\n",
       "    </tr>\n",
       "    <tr>\n",
       "      <th>123</th>\n",
       "      <td>dunoetsa</td>\n",
       "      <td>cteenaip</td>\n",
       "      <td>5ed3d67b8723c11444c43283</td>\n",
       "      <td>2020-06-13T16:10:51.479000Z</td>\n",
       "      <td>27791</td>\n",
       "      <td>Debit</td>\n",
       "      <td>web</td>\n",
       "      <td>KBank</td>\n",
       "      <td>[n/a]</td>\n",
       "    </tr>\n",
       "    <tr>\n",
       "      <th>124</th>\n",
       "      <td>etst</td>\n",
       "      <td>mflioulna</td>\n",
       "      <td>5ed3d67b8723c11444c43283</td>\n",
       "      <td>2020-06-13T05:28:47.543000Z</td>\n",
       "      <td>6192</td>\n",
       "      <td>Debit</td>\n",
       "      <td>web</td>\n",
       "      <td>QBank</td>\n",
       "      <td>[n/a]</td>\n",
       "    </tr>\n",
       "    <tr>\n",
       "      <th>125</th>\n",
       "      <td>asimeinfj</td>\n",
       "      <td>au nyiuflasalodmoelo</td>\n",
       "      <td>5ed3d67b8723c11444c43283</td>\n",
       "      <td>2020-06-12T20:22:38.986000Z</td>\n",
       "      <td>38445</td>\n",
       "      <td>Debit</td>\n",
       "      <td>mobile</td>\n",
       "      <td>ABank</td>\n",
       "      <td>[n/a]</td>\n",
       "    </tr>\n",
       "    <tr>\n",
       "      <th>126</th>\n",
       "      <td>oin</td>\n",
       "      <td>oedpum</td>\n",
       "      <td>5ed3d67b8723c11444c43283</td>\n",
       "      <td>2020-06-13T06:00:46.904000Z</td>\n",
       "      <td>29627</td>\n",
       "      <td>Debit</td>\n",
       "      <td>mobile</td>\n",
       "      <td>GBank</td>\n",
       "      <td>[n/a]</td>\n",
       "    </tr>\n",
       "  </tbody>\n",
       "</table>\n",
       "<p>127 rows × 9 columns</p>\n",
       "</div>"
      ],
      "text/plain": [
       "    First Name             Last Name                     tx_id  \\\n",
       "0      nooeukw           uuoaklowalb  5ed3d67b8723c11444c43283   \n",
       "1      angulbo                 seagn  5ed3d67b8723c11444c43283   \n",
       "2       dukowi             eukloomja  5ed3d67b8723c11444c43283   \n",
       "3    ltuoawiob            uuilawobmn  5ed3d67b8723c11444c43283   \n",
       "4      nakuolo                donald  5ed3d67b8723c11444c43283   \n",
       "..         ...                   ...                       ...   \n",
       "122   nodgeeul                ihcnek  5ed3d67b8723c11444c43283   \n",
       "123   dunoetsa              cteenaip  5ed3d67b8723c11444c43283   \n",
       "124       etst             mflioulna  5ed3d67b8723c11444c43283   \n",
       "125  asimeinfj  au nyiuflasalodmoelo  5ed3d67b8723c11444c43283   \n",
       "126        oin                oedpum  5ed3d67b8723c11444c43283   \n",
       "\n",
       "                         tx_date  tx_amount tx_mode tx_channel bank_name  \\\n",
       "0    2020-06-13T05:28:47.543000Z       6192   Debit        web     QBank   \n",
       "1    2020-06-12T20:22:38.986000Z      38445   Debit     mobile     ABank   \n",
       "2    2020-06-13T06:00:46.904000Z      29627   Debit     mobile     GBank   \n",
       "3    2020-06-13T16:10:51.479000Z      27791   Debit        web     KBank   \n",
       "4    2020-06-13T05:28:47.543000Z       6192   Debit        web     QBank   \n",
       "..                           ...        ...     ...        ...       ...   \n",
       "122  2020-06-13T06:00:46.904000Z      29627   Debit     mobile     GBank   \n",
       "123  2020-06-13T16:10:51.479000Z      27791   Debit        web     KBank   \n",
       "124  2020-06-13T05:28:47.543000Z       6192   Debit        web     QBank   \n",
       "125  2020-06-12T20:22:38.986000Z      38445   Debit     mobile     ABank   \n",
       "126  2020-06-13T06:00:46.904000Z      29627   Debit     mobile     GBank   \n",
       "\n",
       "                       dob  \n",
       "0    [1992-11-10 00:00:00]  \n",
       "1                    [n/a]  \n",
       "2    [1992-01-01 00:00:00]  \n",
       "3    [1981-01-07 00:00:00]  \n",
       "4                    [n/a]  \n",
       "..                     ...  \n",
       "122                  [n/a]  \n",
       "123                  [n/a]  \n",
       "124                  [n/a]  \n",
       "125                  [n/a]  \n",
       "126                  [n/a]  \n",
       "\n",
       "[127 rows x 9 columns]"
      ]
     },
     "execution_count": 15,
     "metadata": {},
     "output_type": "execute_result"
    }
   ],
   "source": [
    "df"
   ]
  },
  {
   "cell_type": "code",
   "execution_count": 16,
   "metadata": {},
   "outputs": [],
   "source": [
    "columns = ['first_name', 'last_name', 'id', 'date', 'amount', 'mode', 'channel', 'bank_name', 'dob']\n",
    "\n",
    "df.columns = columns"
   ]
  },
  {
   "cell_type": "code",
   "execution_count": 17,
   "metadata": {},
   "outputs": [
    {
     "data": {
      "text/html": [
       "<div>\n",
       "<style scoped>\n",
       "    .dataframe tbody tr th:only-of-type {\n",
       "        vertical-align: middle;\n",
       "    }\n",
       "\n",
       "    .dataframe tbody tr th {\n",
       "        vertical-align: top;\n",
       "    }\n",
       "\n",
       "    .dataframe thead th {\n",
       "        text-align: right;\n",
       "    }\n",
       "</style>\n",
       "<table border=\"1\" class=\"dataframe\">\n",
       "  <thead>\n",
       "    <tr style=\"text-align: right;\">\n",
       "      <th></th>\n",
       "      <th>first_name</th>\n",
       "      <th>last_name</th>\n",
       "      <th>id</th>\n",
       "      <th>date</th>\n",
       "      <th>amount</th>\n",
       "      <th>mode</th>\n",
       "      <th>channel</th>\n",
       "      <th>bank_name</th>\n",
       "      <th>dob</th>\n",
       "    </tr>\n",
       "  </thead>\n",
       "  <tbody>\n",
       "    <tr>\n",
       "      <th>0</th>\n",
       "      <td>nooeukw</td>\n",
       "      <td>uuoaklowalb</td>\n",
       "      <td>5ed3d67b8723c11444c43283</td>\n",
       "      <td>2020-06-13T05:28:47.543000Z</td>\n",
       "      <td>6192</td>\n",
       "      <td>Debit</td>\n",
       "      <td>web</td>\n",
       "      <td>QBank</td>\n",
       "      <td>[1992-11-10 00:00:00]</td>\n",
       "    </tr>\n",
       "    <tr>\n",
       "      <th>1</th>\n",
       "      <td>angulbo</td>\n",
       "      <td>seagn</td>\n",
       "      <td>5ed3d67b8723c11444c43283</td>\n",
       "      <td>2020-06-12T20:22:38.986000Z</td>\n",
       "      <td>38445</td>\n",
       "      <td>Debit</td>\n",
       "      <td>mobile</td>\n",
       "      <td>ABank</td>\n",
       "      <td>[n/a]</td>\n",
       "    </tr>\n",
       "    <tr>\n",
       "      <th>2</th>\n",
       "      <td>dukowi</td>\n",
       "      <td>eukloomja</td>\n",
       "      <td>5ed3d67b8723c11444c43283</td>\n",
       "      <td>2020-06-13T06:00:46.904000Z</td>\n",
       "      <td>29627</td>\n",
       "      <td>Debit</td>\n",
       "      <td>mobile</td>\n",
       "      <td>GBank</td>\n",
       "      <td>[1992-01-01 00:00:00]</td>\n",
       "    </tr>\n",
       "    <tr>\n",
       "      <th>3</th>\n",
       "      <td>ltuoawiob</td>\n",
       "      <td>uuilawobmn</td>\n",
       "      <td>5ed3d67b8723c11444c43283</td>\n",
       "      <td>2020-06-13T16:10:51.479000Z</td>\n",
       "      <td>27791</td>\n",
       "      <td>Debit</td>\n",
       "      <td>web</td>\n",
       "      <td>KBank</td>\n",
       "      <td>[1981-01-07 00:00:00]</td>\n",
       "    </tr>\n",
       "    <tr>\n",
       "      <th>4</th>\n",
       "      <td>nakuolo</td>\n",
       "      <td>donald</td>\n",
       "      <td>5ed3d67b8723c11444c43283</td>\n",
       "      <td>2020-06-13T05:28:47.543000Z</td>\n",
       "      <td>6192</td>\n",
       "      <td>Debit</td>\n",
       "      <td>web</td>\n",
       "      <td>QBank</td>\n",
       "      <td>[n/a]</td>\n",
       "    </tr>\n",
       "  </tbody>\n",
       "</table>\n",
       "</div>"
      ],
      "text/plain": [
       "  first_name    last_name                        id  \\\n",
       "0    nooeukw  uuoaklowalb  5ed3d67b8723c11444c43283   \n",
       "1    angulbo        seagn  5ed3d67b8723c11444c43283   \n",
       "2     dukowi    eukloomja  5ed3d67b8723c11444c43283   \n",
       "3  ltuoawiob   uuilawobmn  5ed3d67b8723c11444c43283   \n",
       "4    nakuolo       donald  5ed3d67b8723c11444c43283   \n",
       "\n",
       "                          date  amount   mode channel bank_name  \\\n",
       "0  2020-06-13T05:28:47.543000Z    6192  Debit     web     QBank   \n",
       "1  2020-06-12T20:22:38.986000Z   38445  Debit  mobile     ABank   \n",
       "2  2020-06-13T06:00:46.904000Z   29627  Debit  mobile     GBank   \n",
       "3  2020-06-13T16:10:51.479000Z   27791  Debit     web     KBank   \n",
       "4  2020-06-13T05:28:47.543000Z    6192  Debit     web     QBank   \n",
       "\n",
       "                     dob  \n",
       "0  [1992-11-10 00:00:00]  \n",
       "1                  [n/a]  \n",
       "2  [1992-01-01 00:00:00]  \n",
       "3  [1981-01-07 00:00:00]  \n",
       "4                  [n/a]  "
      ]
     },
     "execution_count": 17,
     "metadata": {},
     "output_type": "execute_result"
    }
   ],
   "source": [
    "df.head(5)"
   ]
  },
  {
   "cell_type": "code",
   "execution_count": 18,
   "metadata": {},
   "outputs": [],
   "source": [
    "#2. Identifing the top 5 predominat ages in the dataset"
   ]
  },
  {
   "cell_type": "code",
   "execution_count": 19,
   "metadata": {},
   "outputs": [
    {
     "data": {
      "text/plain": [
       "list"
      ]
     },
     "execution_count": 19,
     "metadata": {},
     "output_type": "execute_result"
    }
   ],
   "source": [
    "type(df['dob'].loc[0])"
   ]
  },
  {
   "cell_type": "code",
   "execution_count": 20,
   "metadata": {},
   "outputs": [],
   "source": [
    "#convert the list to string "
   ]
  },
  {
   "cell_type": "code",
   "execution_count": 21,
   "metadata": {},
   "outputs": [],
   "source": [
    "df['dob'] = df['dob'].apply(lambda dob: ''.join(dob))"
   ]
  },
  {
   "cell_type": "code",
   "execution_count": 22,
   "metadata": {},
   "outputs": [
    {
     "data": {
      "text/html": [
       "<div>\n",
       "<style scoped>\n",
       "    .dataframe tbody tr th:only-of-type {\n",
       "        vertical-align: middle;\n",
       "    }\n",
       "\n",
       "    .dataframe tbody tr th {\n",
       "        vertical-align: top;\n",
       "    }\n",
       "\n",
       "    .dataframe thead th {\n",
       "        text-align: right;\n",
       "    }\n",
       "</style>\n",
       "<table border=\"1\" class=\"dataframe\">\n",
       "  <thead>\n",
       "    <tr style=\"text-align: right;\">\n",
       "      <th></th>\n",
       "      <th>first_name</th>\n",
       "      <th>last_name</th>\n",
       "      <th>id</th>\n",
       "      <th>date</th>\n",
       "      <th>amount</th>\n",
       "      <th>mode</th>\n",
       "      <th>channel</th>\n",
       "      <th>bank_name</th>\n",
       "      <th>dob</th>\n",
       "    </tr>\n",
       "  </thead>\n",
       "  <tbody>\n",
       "    <tr>\n",
       "      <th>0</th>\n",
       "      <td>nooeukw</td>\n",
       "      <td>uuoaklowalb</td>\n",
       "      <td>5ed3d67b8723c11444c43283</td>\n",
       "      <td>2020-06-13T05:28:47.543000Z</td>\n",
       "      <td>6192</td>\n",
       "      <td>Debit</td>\n",
       "      <td>web</td>\n",
       "      <td>QBank</td>\n",
       "      <td>1992-11-10 00:00:00</td>\n",
       "    </tr>\n",
       "    <tr>\n",
       "      <th>1</th>\n",
       "      <td>angulbo</td>\n",
       "      <td>seagn</td>\n",
       "      <td>5ed3d67b8723c11444c43283</td>\n",
       "      <td>2020-06-12T20:22:38.986000Z</td>\n",
       "      <td>38445</td>\n",
       "      <td>Debit</td>\n",
       "      <td>mobile</td>\n",
       "      <td>ABank</td>\n",
       "      <td>n/a</td>\n",
       "    </tr>\n",
       "    <tr>\n",
       "      <th>2</th>\n",
       "      <td>dukowi</td>\n",
       "      <td>eukloomja</td>\n",
       "      <td>5ed3d67b8723c11444c43283</td>\n",
       "      <td>2020-06-13T06:00:46.904000Z</td>\n",
       "      <td>29627</td>\n",
       "      <td>Debit</td>\n",
       "      <td>mobile</td>\n",
       "      <td>GBank</td>\n",
       "      <td>1992-01-01 00:00:00</td>\n",
       "    </tr>\n",
       "    <tr>\n",
       "      <th>3</th>\n",
       "      <td>ltuoawiob</td>\n",
       "      <td>uuilawobmn</td>\n",
       "      <td>5ed3d67b8723c11444c43283</td>\n",
       "      <td>2020-06-13T16:10:51.479000Z</td>\n",
       "      <td>27791</td>\n",
       "      <td>Debit</td>\n",
       "      <td>web</td>\n",
       "      <td>KBank</td>\n",
       "      <td>1981-01-07 00:00:00</td>\n",
       "    </tr>\n",
       "    <tr>\n",
       "      <th>4</th>\n",
       "      <td>nakuolo</td>\n",
       "      <td>donald</td>\n",
       "      <td>5ed3d67b8723c11444c43283</td>\n",
       "      <td>2020-06-13T05:28:47.543000Z</td>\n",
       "      <td>6192</td>\n",
       "      <td>Debit</td>\n",
       "      <td>web</td>\n",
       "      <td>QBank</td>\n",
       "      <td>n/a</td>\n",
       "    </tr>\n",
       "    <tr>\n",
       "      <th>...</th>\n",
       "      <td>...</td>\n",
       "      <td>...</td>\n",
       "      <td>...</td>\n",
       "      <td>...</td>\n",
       "      <td>...</td>\n",
       "      <td>...</td>\n",
       "      <td>...</td>\n",
       "      <td>...</td>\n",
       "      <td>...</td>\n",
       "    </tr>\n",
       "    <tr>\n",
       "      <th>122</th>\n",
       "      <td>nodgeeul</td>\n",
       "      <td>ihcnek</td>\n",
       "      <td>5ed3d67b8723c11444c43283</td>\n",
       "      <td>2020-06-13T06:00:46.904000Z</td>\n",
       "      <td>29627</td>\n",
       "      <td>Debit</td>\n",
       "      <td>mobile</td>\n",
       "      <td>GBank</td>\n",
       "      <td>n/a</td>\n",
       "    </tr>\n",
       "    <tr>\n",
       "      <th>123</th>\n",
       "      <td>dunoetsa</td>\n",
       "      <td>cteenaip</td>\n",
       "      <td>5ed3d67b8723c11444c43283</td>\n",
       "      <td>2020-06-13T16:10:51.479000Z</td>\n",
       "      <td>27791</td>\n",
       "      <td>Debit</td>\n",
       "      <td>web</td>\n",
       "      <td>KBank</td>\n",
       "      <td>n/a</td>\n",
       "    </tr>\n",
       "    <tr>\n",
       "      <th>124</th>\n",
       "      <td>etst</td>\n",
       "      <td>mflioulna</td>\n",
       "      <td>5ed3d67b8723c11444c43283</td>\n",
       "      <td>2020-06-13T05:28:47.543000Z</td>\n",
       "      <td>6192</td>\n",
       "      <td>Debit</td>\n",
       "      <td>web</td>\n",
       "      <td>QBank</td>\n",
       "      <td>n/a</td>\n",
       "    </tr>\n",
       "    <tr>\n",
       "      <th>125</th>\n",
       "      <td>asimeinfj</td>\n",
       "      <td>au nyiuflasalodmoelo</td>\n",
       "      <td>5ed3d67b8723c11444c43283</td>\n",
       "      <td>2020-06-12T20:22:38.986000Z</td>\n",
       "      <td>38445</td>\n",
       "      <td>Debit</td>\n",
       "      <td>mobile</td>\n",
       "      <td>ABank</td>\n",
       "      <td>n/a</td>\n",
       "    </tr>\n",
       "    <tr>\n",
       "      <th>126</th>\n",
       "      <td>oin</td>\n",
       "      <td>oedpum</td>\n",
       "      <td>5ed3d67b8723c11444c43283</td>\n",
       "      <td>2020-06-13T06:00:46.904000Z</td>\n",
       "      <td>29627</td>\n",
       "      <td>Debit</td>\n",
       "      <td>mobile</td>\n",
       "      <td>GBank</td>\n",
       "      <td>n/a</td>\n",
       "    </tr>\n",
       "  </tbody>\n",
       "</table>\n",
       "<p>127 rows × 9 columns</p>\n",
       "</div>"
      ],
      "text/plain": [
       "    first_name             last_name                        id  \\\n",
       "0      nooeukw           uuoaklowalb  5ed3d67b8723c11444c43283   \n",
       "1      angulbo                 seagn  5ed3d67b8723c11444c43283   \n",
       "2       dukowi             eukloomja  5ed3d67b8723c11444c43283   \n",
       "3    ltuoawiob            uuilawobmn  5ed3d67b8723c11444c43283   \n",
       "4      nakuolo                donald  5ed3d67b8723c11444c43283   \n",
       "..         ...                   ...                       ...   \n",
       "122   nodgeeul                ihcnek  5ed3d67b8723c11444c43283   \n",
       "123   dunoetsa              cteenaip  5ed3d67b8723c11444c43283   \n",
       "124       etst             mflioulna  5ed3d67b8723c11444c43283   \n",
       "125  asimeinfj  au nyiuflasalodmoelo  5ed3d67b8723c11444c43283   \n",
       "126        oin                oedpum  5ed3d67b8723c11444c43283   \n",
       "\n",
       "                            date  amount   mode channel bank_name  \\\n",
       "0    2020-06-13T05:28:47.543000Z    6192  Debit     web     QBank   \n",
       "1    2020-06-12T20:22:38.986000Z   38445  Debit  mobile     ABank   \n",
       "2    2020-06-13T06:00:46.904000Z   29627  Debit  mobile     GBank   \n",
       "3    2020-06-13T16:10:51.479000Z   27791  Debit     web     KBank   \n",
       "4    2020-06-13T05:28:47.543000Z    6192  Debit     web     QBank   \n",
       "..                           ...     ...    ...     ...       ...   \n",
       "122  2020-06-13T06:00:46.904000Z   29627  Debit  mobile     GBank   \n",
       "123  2020-06-13T16:10:51.479000Z   27791  Debit     web     KBank   \n",
       "124  2020-06-13T05:28:47.543000Z    6192  Debit     web     QBank   \n",
       "125  2020-06-12T20:22:38.986000Z   38445  Debit  mobile     ABank   \n",
       "126  2020-06-13T06:00:46.904000Z   29627  Debit  mobile     GBank   \n",
       "\n",
       "                     dob  \n",
       "0    1992-11-10 00:00:00  \n",
       "1                    n/a  \n",
       "2    1992-01-01 00:00:00  \n",
       "3    1981-01-07 00:00:00  \n",
       "4                    n/a  \n",
       "..                   ...  \n",
       "122                  n/a  \n",
       "123                  n/a  \n",
       "124                  n/a  \n",
       "125                  n/a  \n",
       "126                  n/a  \n",
       "\n",
       "[127 rows x 9 columns]"
      ]
     },
     "execution_count": 22,
     "metadata": {},
     "output_type": "execute_result"
    }
   ],
   "source": [
    "df"
   ]
  },
  {
   "cell_type": "code",
   "execution_count": 23,
   "metadata": {},
   "outputs": [],
   "source": [
    "#replace all n/a values in dob to NaN"
   ]
  },
  {
   "cell_type": "code",
   "execution_count": 24,
   "metadata": {},
   "outputs": [],
   "source": [
    "df['dob'] = df['dob'].replace('n/a', np.nan)"
   ]
  },
  {
   "cell_type": "code",
   "execution_count": 25,
   "metadata": {},
   "outputs": [
    {
     "data": {
      "text/plain": [
       "0      1992-11-10 00:00:00\n",
       "1                      NaN\n",
       "2      1992-01-01 00:00:00\n",
       "3      1981-01-07 00:00:00\n",
       "4                      NaN\n",
       "              ...         \n",
       "122                    NaN\n",
       "123                    NaN\n",
       "124                    NaN\n",
       "125                    NaN\n",
       "126                    NaN\n",
       "Name: dob, Length: 127, dtype: object"
      ]
     },
     "execution_count": 25,
     "metadata": {},
     "output_type": "execute_result"
    }
   ],
   "source": [
    "df['dob']"
   ]
  },
  {
   "cell_type": "code",
   "execution_count": 26,
   "metadata": {},
   "outputs": [],
   "source": [
    "#convert to datetime"
   ]
  },
  {
   "cell_type": "code",
   "execution_count": 27,
   "metadata": {},
   "outputs": [
    {
     "data": {
      "text/plain": [
       "str"
      ]
     },
     "execution_count": 27,
     "metadata": {},
     "output_type": "execute_result"
    }
   ],
   "source": [
    "type(df['dob'].loc[0])"
   ]
  },
  {
   "cell_type": "code",
   "execution_count": 28,
   "metadata": {},
   "outputs": [],
   "source": [
    "df['dob'] = pd.to_datetime(df['dob'])"
   ]
  },
  {
   "cell_type": "code",
   "execution_count": 29,
   "metadata": {},
   "outputs": [
    {
     "data": {
      "text/plain": [
       "1992"
      ]
     },
     "execution_count": 29,
     "metadata": {},
     "output_type": "execute_result"
    }
   ],
   "source": [
    "df['dob'].loc[0].year"
   ]
  },
  {
   "cell_type": "code",
   "execution_count": 30,
   "metadata": {},
   "outputs": [],
   "source": [
    "#create a new column year and age"
   ]
  },
  {
   "cell_type": "code",
   "execution_count": 31,
   "metadata": {},
   "outputs": [],
   "source": [
    "df['year'] = df['dob'].apply(lambda dob: dob.year)"
   ]
  },
  {
   "cell_type": "code",
   "execution_count": 32,
   "metadata": {},
   "outputs": [],
   "source": [
    "df['age'] = 2021 - df['year']"
   ]
  },
  {
   "cell_type": "code",
   "execution_count": 33,
   "metadata": {},
   "outputs": [],
   "source": [
    "#drop the column year, we dont need it"
   ]
  },
  {
   "cell_type": "code",
   "execution_count": 34,
   "metadata": {},
   "outputs": [
    {
     "data": {
      "text/html": [
       "<div>\n",
       "<style scoped>\n",
       "    .dataframe tbody tr th:only-of-type {\n",
       "        vertical-align: middle;\n",
       "    }\n",
       "\n",
       "    .dataframe tbody tr th {\n",
       "        vertical-align: top;\n",
       "    }\n",
       "\n",
       "    .dataframe thead th {\n",
       "        text-align: right;\n",
       "    }\n",
       "</style>\n",
       "<table border=\"1\" class=\"dataframe\">\n",
       "  <thead>\n",
       "    <tr style=\"text-align: right;\">\n",
       "      <th></th>\n",
       "      <th>first_name</th>\n",
       "      <th>last_name</th>\n",
       "      <th>id</th>\n",
       "      <th>date</th>\n",
       "      <th>amount</th>\n",
       "      <th>mode</th>\n",
       "      <th>channel</th>\n",
       "      <th>bank_name</th>\n",
       "      <th>dob</th>\n",
       "      <th>age</th>\n",
       "    </tr>\n",
       "  </thead>\n",
       "  <tbody>\n",
       "    <tr>\n",
       "      <th>0</th>\n",
       "      <td>nooeukw</td>\n",
       "      <td>uuoaklowalb</td>\n",
       "      <td>5ed3d67b8723c11444c43283</td>\n",
       "      <td>2020-06-13T05:28:47.543000Z</td>\n",
       "      <td>6192</td>\n",
       "      <td>Debit</td>\n",
       "      <td>web</td>\n",
       "      <td>QBank</td>\n",
       "      <td>1992-11-10</td>\n",
       "      <td>29.0</td>\n",
       "    </tr>\n",
       "    <tr>\n",
       "      <th>1</th>\n",
       "      <td>angulbo</td>\n",
       "      <td>seagn</td>\n",
       "      <td>5ed3d67b8723c11444c43283</td>\n",
       "      <td>2020-06-12T20:22:38.986000Z</td>\n",
       "      <td>38445</td>\n",
       "      <td>Debit</td>\n",
       "      <td>mobile</td>\n",
       "      <td>ABank</td>\n",
       "      <td>NaT</td>\n",
       "      <td>NaN</td>\n",
       "    </tr>\n",
       "    <tr>\n",
       "      <th>2</th>\n",
       "      <td>dukowi</td>\n",
       "      <td>eukloomja</td>\n",
       "      <td>5ed3d67b8723c11444c43283</td>\n",
       "      <td>2020-06-13T06:00:46.904000Z</td>\n",
       "      <td>29627</td>\n",
       "      <td>Debit</td>\n",
       "      <td>mobile</td>\n",
       "      <td>GBank</td>\n",
       "      <td>1992-01-01</td>\n",
       "      <td>29.0</td>\n",
       "    </tr>\n",
       "    <tr>\n",
       "      <th>3</th>\n",
       "      <td>ltuoawiob</td>\n",
       "      <td>uuilawobmn</td>\n",
       "      <td>5ed3d67b8723c11444c43283</td>\n",
       "      <td>2020-06-13T16:10:51.479000Z</td>\n",
       "      <td>27791</td>\n",
       "      <td>Debit</td>\n",
       "      <td>web</td>\n",
       "      <td>KBank</td>\n",
       "      <td>1981-01-07</td>\n",
       "      <td>40.0</td>\n",
       "    </tr>\n",
       "    <tr>\n",
       "      <th>4</th>\n",
       "      <td>nakuolo</td>\n",
       "      <td>donald</td>\n",
       "      <td>5ed3d67b8723c11444c43283</td>\n",
       "      <td>2020-06-13T05:28:47.543000Z</td>\n",
       "      <td>6192</td>\n",
       "      <td>Debit</td>\n",
       "      <td>web</td>\n",
       "      <td>QBank</td>\n",
       "      <td>NaT</td>\n",
       "      <td>NaN</td>\n",
       "    </tr>\n",
       "  </tbody>\n",
       "</table>\n",
       "</div>"
      ],
      "text/plain": [
       "  first_name    last_name                        id  \\\n",
       "0    nooeukw  uuoaklowalb  5ed3d67b8723c11444c43283   \n",
       "1    angulbo        seagn  5ed3d67b8723c11444c43283   \n",
       "2     dukowi    eukloomja  5ed3d67b8723c11444c43283   \n",
       "3  ltuoawiob   uuilawobmn  5ed3d67b8723c11444c43283   \n",
       "4    nakuolo       donald  5ed3d67b8723c11444c43283   \n",
       "\n",
       "                          date  amount   mode channel bank_name        dob  \\\n",
       "0  2020-06-13T05:28:47.543000Z    6192  Debit     web     QBank 1992-11-10   \n",
       "1  2020-06-12T20:22:38.986000Z   38445  Debit  mobile     ABank        NaT   \n",
       "2  2020-06-13T06:00:46.904000Z   29627  Debit  mobile     GBank 1992-01-01   \n",
       "3  2020-06-13T16:10:51.479000Z   27791  Debit     web     KBank 1981-01-07   \n",
       "4  2020-06-13T05:28:47.543000Z    6192  Debit     web     QBank        NaT   \n",
       "\n",
       "    age  \n",
       "0  29.0  \n",
       "1   NaN  \n",
       "2  29.0  \n",
       "3  40.0  \n",
       "4   NaN  "
      ]
     },
     "execution_count": 34,
     "metadata": {},
     "output_type": "execute_result"
    }
   ],
   "source": [
    "df = df.drop('year', axis =1)\n",
    "df.head()"
   ]
  },
  {
   "cell_type": "code",
   "execution_count": 35,
   "metadata": {},
   "outputs": [],
   "source": [
    "#top 5 ages"
   ]
  },
  {
   "cell_type": "code",
   "execution_count": 36,
   "metadata": {},
   "outputs": [
    {
     "data": {
      "text/plain": [
       "29.0    6\n",
       "41.0    5\n",
       "32.0    4\n",
       "45.0    4\n",
       "40.0    3\n",
       "Name: age, dtype: int64"
      ]
     },
     "execution_count": 36,
     "metadata": {},
     "output_type": "execute_result"
    }
   ],
   "source": [
    "df['age'].value_counts().head(5)"
   ]
  },
  {
   "cell_type": "code",
   "execution_count": 37,
   "metadata": {},
   "outputs": [],
   "source": [
    "#3. banks with the largest share of transactions"
   ]
  },
  {
   "cell_type": "code",
   "execution_count": 38,
   "metadata": {},
   "outputs": [
    {
     "data": {
      "text/plain": [
       "ABank    32\n",
       "GBank    32\n",
       "QBank    32\n",
       "KBank    31\n",
       "Name: bank_name, dtype: int64"
      ]
     },
     "execution_count": 38,
     "metadata": {},
     "output_type": "execute_result"
    }
   ],
   "source": [
    "df['bank_name'].value_counts()"
   ]
  },
  {
   "cell_type": "code",
   "execution_count": 39,
   "metadata": {},
   "outputs": [],
   "source": [
    "#4. show distribution of channels used on transactions"
   ]
  },
  {
   "cell_type": "code",
   "execution_count": 40,
   "metadata": {},
   "outputs": [
    {
     "data": {
      "text/plain": [
       "<matplotlib.axes._subplots.AxesSubplot at 0x45fc9e8>"
      ]
     },
     "execution_count": 40,
     "metadata": {},
     "output_type": "execute_result"
    },
    {
     "data": {
      "image/png": "[encoded data removed]",
      "text/plain": [
       "<Figure size 432x288 with 1 Axes>"
      ]
     },
     "metadata": {
      "needs_background": "light"
     },
     "output_type": "display_data"
    }
   ],
   "source": [
    "sns.countplot(df['channel'])"
   ]
  },
  {
   "cell_type": "code",
   "execution_count": null,
   "metadata": {},
   "outputs": [],
   "source": []
  }
 ],
 "metadata": {
  "kernelspec": {
   "display_name": "Python 3",
   "language": "python",
   "name": "python3"
  },
  "language_info": {
   "codemirror_mode": {
    "name": "ipython",
    "version": 3
   },
   "file_extension": ".py",
   "mimetype": "text/x-python",
   "name": "python",
   "nbconvert_exporter": "python",
   "pygments_lexer": "ipython3",
   "version": "3.8.3"
  }
 },
 "nbformat": 4,
 "nbformat_minor": 4
}
